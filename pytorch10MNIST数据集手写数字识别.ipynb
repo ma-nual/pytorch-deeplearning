{
 "cells": [
  {
   "cell_type": "code",
   "execution_count": 1,
   "metadata": {},
   "outputs": [
    {
     "data": {
      "text/plain": [
       "'1.5.0'"
      ]
     },
     "execution_count": 1,
     "metadata": {},
     "output_type": "execute_result"
    }
   ],
   "source": [
    "import torch\n",
    "import torch.nn as nn\n",
    "import torch.nn.functional as F\n",
    "import torch.optim as optim\n",
    "from torchvision import datasets,transforms\n",
    "torch.__version__"
   ]
  },
  {
   "cell_type": "code",
   "execution_count": 2,
   "metadata": {},
   "outputs": [],
   "source": [
    "BATCH_SIZE = 512\n",
    "EPOCHS = 20\n",
    "DEVICE = torch.device(\"cuda\" if torch.cuda.is_available() else \"cpu\")"
   ]
  },
  {
   "cell_type": "code",
   "execution_count": 3,
   "metadata": {},
   "outputs": [],
   "source": [
    "train_loader = torch.utils.data.DataLoader(datasets.MNIST('data',train = True,download = True,\n",
    "                                                         transform = transforms.Compose([\n",
    "                                                             transforms.ToTensor(),\n",
    "                                                             transforms.Normalize((0.1307,),(0.3081,))\n",
    "                                                         ])),\n",
    "                                          batch_size = BATCH_SIZE,shuffle = True)"
   ]
  },
  {
   "cell_type": "code",
   "execution_count": 4,
   "metadata": {},
   "outputs": [],
   "source": [
    "test_loader = torch.utils.data.DataLoader(datasets.MNIST('data',train = False,transform = transforms.Compose([\n",
    "    transforms.ToTensor(),\n",
    "    transforms.Normalize((0.1307,),(0.3081,))\n",
    "])),\n",
    "                                         batch_size = BATCH_SIZE,shuffle = True)"
   ]
  },
  {
   "cell_type": "code",
   "execution_count": 5,
   "metadata": {},
   "outputs": [],
   "source": [
    "class ConvNet(nn.Module):\n",
    "    def __init__(self):\n",
    "        super().__init__()\n",
    "        self.conv1 = nn.Conv2d(1,10,5)\n",
    "        self.conv2 = nn.Conv2d(10,20,3)\n",
    "        self.fc1 = nn.Linear(20*10*10,500)\n",
    "        self.fc2 = nn.Linear(500,10)\n",
    "    def forward(self,x):\n",
    "        in_size = x.size(0)\n",
    "        out = self.conv1(x)\n",
    "        out = F.relu(out)\n",
    "        out = F.max_pool2d(out,2,2)\n",
    "        out = self.conv2(out)\n",
    "        out = F.relu(out)\n",
    "        out = out.view(in_size,-1)\n",
    "        out = self.fc1(out)\n",
    "        out = F.relu(out)\n",
    "        out = self.fc2(out)\n",
    "        out = F.log_softmax(out,dim=1)\n",
    "        return out"
   ]
  },
  {
   "cell_type": "code",
   "execution_count": 6,
   "metadata": {},
   "outputs": [],
   "source": [
    "model = ConvNet().to(DEVICE)\n",
    "optimizer = optim.Adam(model.parameters())"
   ]
  },
  {
   "cell_type": "code",
   "execution_count": 7,
   "metadata": {},
   "outputs": [],
   "source": [
    "def train(model,device,train_loader,optimizer,epoch):\n",
    "    model.train()\n",
    "    for batch_idx,(data,target) in enumerate(train_loader):\n",
    "        data,target = data.to(device),target.to(device)\n",
    "        optimizer.zero_grad()\n",
    "        output = model(data)\n",
    "        loss = F.nll_loss(output,target)\n",
    "        loss.backward()\n",
    "        optimizer.step()\n",
    "        if(batch_idx+1)%30 == 0:\n",
    "            print('Train Epoch:{} [{}/{} ({:.0f}%)]\\tLoss:{:.6f}'.format(\n",
    "            epoch,batch_idx * len(data),len(train_loader.dataset),\n",
    "            100. * batch_idx/len(train_loader),loss.item()))"
   ]
  },
  {
   "cell_type": "code",
   "execution_count": 8,
   "metadata": {},
   "outputs": [],
   "source": [
    "def test(model,device,test_loader):\n",
    "    model.eval()\n",
    "    test_loss = 0\n",
    "    correct = 0\n",
    "    with torch.no_grad():\n",
    "        for data,target in test_loader:\n",
    "            data,target = data.to(device),target.to(device)\n",
    "            output = model(data)\n",
    "            test_loss += F.nll_loss(output,target,reduction='sum').item()\n",
    "            pred = output.max(1,keepdim=True)[1]\n",
    "            correct += pred.eq(target.view_as(pred)).sum().item()\n",
    "            \n",
    "        test_loss /= len(test_loader.dataset)\n",
    "        print('\\nTest set: Average loss: {:.4f}, Accuracy: {}/{} ({:.0f}%)\\n'.format(\n",
    "        test_loss,correct,len(test_loader.dataset),\n",
    "        100. * correct/len(test_loader.dataset)))"
   ]
  },
  {
   "cell_type": "code",
   "execution_count": 9,
   "metadata": {},
   "outputs": [
    {
     "name": "stdout",
     "output_type": "stream",
     "text": [
      "Train Epoch:1 [14848/60000 (25%)]\tLoss:0.298360\n",
      "Train Epoch:1 [30208/60000 (50%)]\tLoss:0.157732\n",
      "Train Epoch:1 [45568/60000 (75%)]\tLoss:0.107544\n",
      "\n",
      "Test set: Average loss: 0.0893, Accuracy: 9732/10000 (97%)\n",
      "\n",
      "Train Epoch:2 [14848/60000 (25%)]\tLoss:0.068188\n",
      "Train Epoch:2 [30208/60000 (50%)]\tLoss:0.080535\n",
      "Train Epoch:2 [45568/60000 (75%)]\tLoss:0.055243\n",
      "\n",
      "Test set: Average loss: 0.0589, Accuracy: 9816/10000 (98%)\n",
      "\n",
      "Train Epoch:3 [14848/60000 (25%)]\tLoss:0.055258\n",
      "Train Epoch:3 [30208/60000 (50%)]\tLoss:0.045292\n",
      "Train Epoch:3 [45568/60000 (75%)]\tLoss:0.036279\n",
      "\n",
      "Test set: Average loss: 0.0524, Accuracy: 9829/10000 (98%)\n",
      "\n",
      "Train Epoch:4 [14848/60000 (25%)]\tLoss:0.058677\n",
      "Train Epoch:4 [30208/60000 (50%)]\tLoss:0.041679\n",
      "Train Epoch:4 [45568/60000 (75%)]\tLoss:0.053191\n",
      "\n",
      "Test set: Average loss: 0.0474, Accuracy: 9839/10000 (98%)\n",
      "\n",
      "Train Epoch:5 [14848/60000 (25%)]\tLoss:0.049636\n",
      "Train Epoch:5 [30208/60000 (50%)]\tLoss:0.034009\n",
      "Train Epoch:5 [45568/60000 (75%)]\tLoss:0.046147\n",
      "\n",
      "Test set: Average loss: 0.0451, Accuracy: 9849/10000 (98%)\n",
      "\n",
      "Train Epoch:6 [14848/60000 (25%)]\tLoss:0.009905\n",
      "Train Epoch:6 [30208/60000 (50%)]\tLoss:0.011817\n",
      "Train Epoch:6 [45568/60000 (75%)]\tLoss:0.018972\n",
      "\n",
      "Test set: Average loss: 0.0381, Accuracy: 9871/10000 (99%)\n",
      "\n",
      "Train Epoch:7 [14848/60000 (25%)]\tLoss:0.029017\n",
      "Train Epoch:7 [30208/60000 (50%)]\tLoss:0.012808\n",
      "Train Epoch:7 [45568/60000 (75%)]\tLoss:0.022598\n",
      "\n",
      "Test set: Average loss: 0.0327, Accuracy: 9888/10000 (99%)\n",
      "\n",
      "Train Epoch:8 [14848/60000 (25%)]\tLoss:0.015775\n",
      "Train Epoch:8 [30208/60000 (50%)]\tLoss:0.024879\n",
      "Train Epoch:8 [45568/60000 (75%)]\tLoss:0.014257\n",
      "\n",
      "Test set: Average loss: 0.0331, Accuracy: 9894/10000 (99%)\n",
      "\n",
      "Train Epoch:9 [14848/60000 (25%)]\tLoss:0.004362\n",
      "Train Epoch:9 [30208/60000 (50%)]\tLoss:0.005973\n",
      "Train Epoch:9 [45568/60000 (75%)]\tLoss:0.006024\n",
      "\n",
      "Test set: Average loss: 0.0378, Accuracy: 9881/10000 (99%)\n",
      "\n",
      "Train Epoch:10 [14848/60000 (25%)]\tLoss:0.009328\n",
      "Train Epoch:10 [30208/60000 (50%)]\tLoss:0.009285\n",
      "Train Epoch:10 [45568/60000 (75%)]\tLoss:0.004405\n",
      "\n",
      "Test set: Average loss: 0.0321, Accuracy: 9889/10000 (99%)\n",
      "\n",
      "Train Epoch:11 [14848/60000 (25%)]\tLoss:0.003831\n",
      "Train Epoch:11 [30208/60000 (50%)]\tLoss:0.005537\n",
      "Train Epoch:11 [45568/60000 (75%)]\tLoss:0.006990\n",
      "\n",
      "Test set: Average loss: 0.0410, Accuracy: 9873/10000 (99%)\n",
      "\n",
      "Train Epoch:12 [14848/60000 (25%)]\tLoss:0.006168\n",
      "Train Epoch:12 [30208/60000 (50%)]\tLoss:0.007569\n",
      "Train Epoch:12 [45568/60000 (75%)]\tLoss:0.017221\n",
      "\n",
      "Test set: Average loss: 0.0360, Accuracy: 9884/10000 (99%)\n",
      "\n",
      "Train Epoch:13 [14848/60000 (25%)]\tLoss:0.005875\n",
      "Train Epoch:13 [30208/60000 (50%)]\tLoss:0.004480\n",
      "Train Epoch:13 [45568/60000 (75%)]\tLoss:0.014260\n",
      "\n",
      "Test set: Average loss: 0.0407, Accuracy: 9869/10000 (99%)\n",
      "\n",
      "Train Epoch:14 [14848/60000 (25%)]\tLoss:0.008535\n",
      "Train Epoch:14 [30208/60000 (50%)]\tLoss:0.010050\n",
      "Train Epoch:14 [45568/60000 (75%)]\tLoss:0.002842\n",
      "\n",
      "Test set: Average loss: 0.0375, Accuracy: 9881/10000 (99%)\n",
      "\n",
      "Train Epoch:15 [14848/60000 (25%)]\tLoss:0.001580\n",
      "Train Epoch:15 [30208/60000 (50%)]\tLoss:0.001312\n",
      "Train Epoch:15 [45568/60000 (75%)]\tLoss:0.003265\n",
      "\n",
      "Test set: Average loss: 0.0341, Accuracy: 9879/10000 (99%)\n",
      "\n",
      "Train Epoch:16 [14848/60000 (25%)]\tLoss:0.002931\n",
      "Train Epoch:16 [30208/60000 (50%)]\tLoss:0.003355\n",
      "Train Epoch:16 [45568/60000 (75%)]\tLoss:0.001627\n",
      "\n",
      "Test set: Average loss: 0.0327, Accuracy: 9896/10000 (99%)\n",
      "\n",
      "Train Epoch:17 [14848/60000 (25%)]\tLoss:0.002839\n",
      "Train Epoch:17 [30208/60000 (50%)]\tLoss:0.007496\n",
      "Train Epoch:17 [45568/60000 (75%)]\tLoss:0.002428\n",
      "\n",
      "Test set: Average loss: 0.0382, Accuracy: 9895/10000 (99%)\n",
      "\n",
      "Train Epoch:18 [14848/60000 (25%)]\tLoss:0.000548\n",
      "Train Epoch:18 [30208/60000 (50%)]\tLoss:0.004875\n",
      "Train Epoch:18 [45568/60000 (75%)]\tLoss:0.001284\n",
      "\n",
      "Test set: Average loss: 0.0370, Accuracy: 9891/10000 (99%)\n",
      "\n",
      "Train Epoch:19 [14848/60000 (25%)]\tLoss:0.001478\n",
      "Train Epoch:19 [30208/60000 (50%)]\tLoss:0.000275\n",
      "Train Epoch:19 [45568/60000 (75%)]\tLoss:0.000714\n",
      "\n",
      "Test set: Average loss: 0.0380, Accuracy: 9895/10000 (99%)\n",
      "\n",
      "Train Epoch:20 [14848/60000 (25%)]\tLoss:0.001780\n",
      "Train Epoch:20 [30208/60000 (50%)]\tLoss:0.000727\n",
      "Train Epoch:20 [45568/60000 (75%)]\tLoss:0.002566\n",
      "\n",
      "Test set: Average loss: 0.0350, Accuracy: 9901/10000 (99%)\n",
      "\n"
     ]
    }
   ],
   "source": [
    "for epoch in range(1, EPOCHS + 1):\n",
    "    train(model,DEVICE,train_loader,optimizer,epoch)\n",
    "    test(model,DEVICE,test_loader)"
   ]
  },
  {
   "cell_type": "code",
   "execution_count": null,
   "metadata": {},
   "outputs": [],
   "source": []
  }
 ],
 "metadata": {
  "kernelspec": {
   "display_name": "Pytorch for Deeplearning",
   "language": "python",
   "name": "pytorch"
  },
  "language_info": {
   "codemirror_mode": {
    "name": "ipython",
    "version": 3
   },
   "file_extension": ".py",
   "mimetype": "text/x-python",
   "name": "python",
   "nbconvert_exporter": "python",
   "pygments_lexer": "ipython3",
   "version": "3.7.6"
  }
 },
 "nbformat": 4,
 "nbformat_minor": 4
}
