{
 "cells": [
  {
   "cell_type": "code",
   "execution_count": 1,
   "metadata": {},
   "outputs": [
    {
     "data": {
      "text/plain": [
       "'1.5.0'"
      ]
     },
     "execution_count": 1,
     "metadata": {},
     "output_type": "execute_result"
    }
   ],
   "source": [
    "%load_ext autoreload\n",
    "%autoreload 2\n",
    "import torch\n",
    "import numpy as np\n",
    "import torch.nn as nn\n",
    "import torch.nn.functional as F\n",
    "from PIL import Image\n",
    "from torchvision import transforms\n",
    "from torchvision import models,datasets\n",
    "import matplotlib.pyplot as plt\n",
    "torch.__version__"
   ]
  },
  {
   "cell_type": "code",
   "execution_count": 2,
   "metadata": {},
   "outputs": [],
   "source": [
    "cat_img=Image.open('./1280px-Felis_silvestris_catus_lying_on_rice_straw.jpg')\n",
    "transform_224= transforms.Compose([\n",
    "    transforms.Resize(224), \n",
    "    transforms.CenterCrop((224,224)),\n",
    "    transforms.ToTensor(),\n",
    "    transforms.Normalize(mean=[0.485, 0.456, 0.406],\n",
    "                                std=[0.229, 0.224, 0.225])\n",
    "])\n",
    "cat_img_224=transform_224(cat_img)"
   ]
  },
  {
   "cell_type": "code",
   "execution_count": 3,
   "metadata": {},
   "outputs": [],
   "source": [
    "net = models.vgg16(pretrained=True)\n",
    "inputs=cat_img_224[np.newaxis]"
   ]
  },
  {
   "cell_type": "code",
   "execution_count": 4,
   "metadata": {},
   "outputs": [
    {
     "data": {
      "text/plain": [
       "287"
      ]
     },
     "execution_count": 4,
     "metadata": {},
     "output_type": "execute_result"
    }
   ],
   "source": [
    "out = net(inputs)\n",
    "_, preds = torch.max(out.data, 1)\n",
    "preds\n",
    "label=preds.numpy()[0]\n",
    "label"
   ]
  },
  {
   "cell_type": "code",
   "execution_count": 5,
   "metadata": {},
   "outputs": [],
   "source": [
    "import sys\n",
    "sys.path.insert(0, './src/')\n",
    "def rgb2gray(rgb):\n",
    "    return np.dot(rgb[...,:3], [0.299, 0.587, 0.114])\n",
    "def rescale_grads(map,gradtype=\"all\"):\n",
    "    if(gradtype==\"pos\"):    \n",
    "        map = (np.maximum(0, map) / map.max())\n",
    "    elif gradtype==\"neg\":\n",
    "        map = (np.maximum(0, -map) / -map.min())\n",
    "    else:\n",
    "        map = map - map.min()\n",
    "        map /= map.max()\n",
    "    return map"
   ]
  },
  {
   "cell_type": "code",
   "execution_count": 7,
   "metadata": {},
   "outputs": [
    {
     "ename": "ModuleNotFoundError",
     "evalue": "No module named 'guided_backprop'",
     "output_type": "error",
     "traceback": [
      "\u001b[1;31m---------------------------------------------------------------------------\u001b[0m",
      "\u001b[1;31mModuleNotFoundError\u001b[0m                       Traceback (most recent call last)",
      "\u001b[1;32m<ipython-input-7-dda3b3c1a83b>\u001b[0m in \u001b[0;36m<module>\u001b[1;34m\u001b[0m\n\u001b[0;32m      1\u001b[0m \u001b[0minputs\u001b[0m\u001b[1;33m.\u001b[0m\u001b[0mrequires_grad\u001b[0m\u001b[1;33m=\u001b[0m\u001b[1;32mTrue\u001b[0m \u001b[1;31m# 这句话必须要有，否则会报错\u001b[0m\u001b[1;33m\u001b[0m\u001b[1;33m\u001b[0m\u001b[0m\n\u001b[1;32m----> 2\u001b[1;33m \u001b[1;32mfrom\u001b[0m \u001b[0mguided_backprop\u001b[0m \u001b[1;32mimport\u001b[0m \u001b[0mGuidedBackprop\u001b[0m \u001b[1;31m#这里直接引用写好的方法，在src，目录找想对应的文件\u001b[0m\u001b[1;33m\u001b[0m\u001b[1;33m\u001b[0m\u001b[0m\n\u001b[0m\u001b[0;32m      3\u001b[0m \u001b[0mGB\u001b[0m\u001b[1;33m=\u001b[0m\u001b[0mGuidedBackprop\u001b[0m\u001b[1;33m(\u001b[0m\u001b[0mnet\u001b[0m\u001b[1;33m)\u001b[0m\u001b[1;33m\u001b[0m\u001b[1;33m\u001b[0m\u001b[0m\n\u001b[0;32m      4\u001b[0m \u001b[0mgp_grads\u001b[0m\u001b[1;33m=\u001b[0m\u001b[0mGB\u001b[0m\u001b[1;33m.\u001b[0m\u001b[0mgenerate_gradients\u001b[0m\u001b[1;33m(\u001b[0m\u001b[0minputs\u001b[0m\u001b[1;33m,\u001b[0m \u001b[0mlabel\u001b[0m\u001b[1;33m)\u001b[0m\u001b[1;33m\u001b[0m\u001b[1;33m\u001b[0m\u001b[0m\n\u001b[0;32m      5\u001b[0m \u001b[0mgp_grads\u001b[0m\u001b[1;33m=\u001b[0m\u001b[0mnp\u001b[0m\u001b[1;33m.\u001b[0m\u001b[0mmoveaxis\u001b[0m\u001b[1;33m(\u001b[0m\u001b[0mgp_grads\u001b[0m\u001b[1;33m,\u001b[0m\u001b[1;36m0\u001b[0m\u001b[1;33m,\u001b[0m\u001b[1;33m-\u001b[0m\u001b[1;36m1\u001b[0m\u001b[1;33m)\u001b[0m\u001b[1;33m\u001b[0m\u001b[1;33m\u001b[0m\u001b[0m\n",
      "\u001b[1;31mModuleNotFoundError\u001b[0m: No module named 'guided_backprop'"
     ]
    }
   ],
   "source": [
    "inputs.requires_grad=True # 这句话必须要有，否则会报错\n",
    "from guided_backprop import GuidedBackprop #这里直接引用写好的方法，在src，目录找想对应的文件\n",
    "GB=GuidedBackprop(net)\n",
    "gp_grads=GB.generate_gradients(inputs, label)\n",
    "gp_grads=np.moveaxis(gp_grads,0,-1)\n",
    "#我们分别计算三类的gp\n",
    "ag=rescale_grads(gp_grads,gradtype=\"all\")\n",
    "pg=rescale_grads(gp_grads,gradtype=\"pos\")\n",
    "ng=rescale_grads(gp_grads,gradtype=\"neg\")"
   ]
  },
  {
   "cell_type": "code",
   "execution_count": null,
   "metadata": {},
   "outputs": [],
   "source": [
    "plt.imshow(cat_img)"
   ]
  },
  {
   "cell_type": "code",
   "execution_count": null,
   "metadata": {},
   "outputs": [],
   "source": [
    "plt.imshow(ag)"
   ]
  },
  {
   "cell_type": "code",
   "execution_count": null,
   "metadata": {},
   "outputs": [],
   "source": [
    "plt.imshow(ng)"
   ]
  },
  {
   "cell_type": "code",
   "execution_count": null,
   "metadata": {},
   "outputs": [],
   "source": [
    "plt.imshow(ag)"
   ]
  },
  {
   "cell_type": "code",
   "execution_count": null,
   "metadata": {},
   "outputs": [],
   "source": [
    "gag=rgb2gray(ag)\n",
    "plt.imshow(gag)"
   ]
  },
  {
   "cell_type": "code",
   "execution_count": null,
   "metadata": {},
   "outputs": [],
   "source": [
    "gpg=rgb2gray(pg)\n",
    "plt.imshow(gpg)"
   ]
  },
  {
   "cell_type": "code",
   "execution_count": null,
   "metadata": {},
   "outputs": [],
   "source": [
    "gng=rgb2gray(ng)\n",
    "plt.imshow(gng)"
   ]
  },
  {
   "cell_type": "code",
   "execution_count": null,
   "metadata": {},
   "outputs": [],
   "source": [
    "import math\n",
    "from gradcam import GradCam\n",
    "from guided_gradcam import guided_grad_cam\n",
    "from guided_backprop import GuidedBackprop\n",
    "nlayers=len(net.features._modules.items())-1\n",
    "print(nlayers) # 打印一下一共有多少层\n",
    "cam_list=[]\n",
    "#下面我们循环每一层\n",
    "\n",
    "for layer in range(nlayers):\n",
    "    #GradCam\n",
    "    grad_cam = GradCam(net,target_layer=layer)\n",
    "    cam = grad_cam.generate_cam(inputs, label)\n",
    "    \n",
    "    #GuidedBackprop\n",
    "    GBP = GuidedBackprop(net)\n",
    "    guided_grads = GBP.generate_gradients(inputs, label)\n",
    "    \n",
    "    # Guided Grad cam\n",
    "    cam_gb = guided_grad_cam(cam, guided_grads)\n",
    "    cam_list.append(rgb2gray(np.moveaxis(cam_gb,0,-1)))"
   ]
  },
  {
   "cell_type": "code",
   "execution_count": null,
   "metadata": {},
   "outputs": [],
   "source": []
  }
 ],
 "metadata": {
  "kernelspec": {
   "display_name": "Pytorch for Deeplearning",
   "language": "python",
   "name": "pytorch"
  },
  "language_info": {
   "codemirror_mode": {
    "name": "ipython",
    "version": 3
   },
   "file_extension": ".py",
   "mimetype": "text/x-python",
   "name": "python",
   "nbconvert_exporter": "python",
   "pygments_lexer": "ipython3",
   "version": "3.7.6"
  }
 },
 "nbformat": 4,
 "nbformat_minor": 4
}
