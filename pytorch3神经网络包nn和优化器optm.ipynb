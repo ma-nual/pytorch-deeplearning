{
 "cells": [
  {
   "cell_type": "code",
   "execution_count": 1,
   "metadata": {},
   "outputs": [
    {
     "data": {
      "text/plain": [
       "'1.5.0'"
      ]
     },
     "execution_count": 1,
     "metadata": {},
     "output_type": "execute_result"
    }
   ],
   "source": [
    "import torch\n",
    "import torch.nn as nn\n",
    "torch.__version__"
   ]
  },
  {
   "cell_type": "code",
   "execution_count": 2,
   "metadata": {},
   "outputs": [],
   "source": [
    "import torch.nn.functional as F"
   ]
  },
  {
   "cell_type": "code",
   "execution_count": 3,
   "metadata": {},
   "outputs": [
    {
     "name": "stdout",
     "output_type": "stream",
     "text": [
      "Net(\n",
      "  (conv1): Conv2d(1, 6, kernel_size=(3, 3), stride=(1, 1))\n",
      "  (fc1): Linear(in_features=1350, out_features=10, bias=True)\n",
      ")\n"
     ]
    }
   ],
   "source": [
    "class Net(nn.Module):\n",
    "    def __init__(self):\n",
    "        super(Net,self).__init__()\n",
    "        self.conv1 = nn.Conv2d(1,6,3)\n",
    "        self.fc1 = nn.Linear(1350,10)\n",
    "    def forward(self,x):\n",
    "        print(x.size())\n",
    "        x = self.conv1(x)\n",
    "        x = F.relu(x)\n",
    "        print(x.size())\n",
    "        x = F.max_pool2d(x,(2,2))\n",
    "        x = F.relu(x)\n",
    "        print(x.size())\n",
    "        x = x.view(x.size()[0],-1)\n",
    "        print(x.size())\n",
    "        x = self.fc1(x)\n",
    "        return x\n",
    "net = Net()\n",
    "print(net)"
   ]
  },
  {
   "cell_type": "code",
   "execution_count": 4,
   "metadata": {},
   "outputs": [
    {
     "name": "stdout",
     "output_type": "stream",
     "text": [
      "Parameter containing:\n",
      "tensor([[[[-0.3019,  0.1001,  0.1437],\n",
      "          [ 0.0494, -0.1227, -0.1368],\n",
      "          [ 0.1253, -0.0367,  0.1636]]],\n",
      "\n",
      "\n",
      "        [[[ 0.0243,  0.0253,  0.1578],\n",
      "          [-0.0865,  0.3138,  0.2121],\n",
      "          [ 0.2625, -0.3271,  0.0662]]],\n",
      "\n",
      "\n",
      "        [[[ 0.0935,  0.1056, -0.1395],\n",
      "          [ 0.1236, -0.1010, -0.0960],\n",
      "          [-0.1251,  0.2068,  0.2601]]],\n",
      "\n",
      "\n",
      "        [[[ 0.2582, -0.0221,  0.1689],\n",
      "          [ 0.0855,  0.1008,  0.1835],\n",
      "          [-0.0018,  0.0223,  0.0614]]],\n",
      "\n",
      "\n",
      "        [[[-0.2871,  0.1613, -0.0661],\n",
      "          [-0.0589,  0.1081,  0.1263],\n",
      "          [ 0.0395, -0.2725,  0.0854]]],\n",
      "\n",
      "\n",
      "        [[[ 0.0802, -0.2292, -0.0601],\n",
      "          [ 0.0189,  0.0502,  0.0823],\n",
      "          [ 0.3142, -0.1817,  0.3178]]]], requires_grad=True)\n",
      "Parameter containing:\n",
      "tensor([-0.2154,  0.1962,  0.1346,  0.2328,  0.2971,  0.1559],\n",
      "       requires_grad=True)\n",
      "Parameter containing:\n",
      "tensor([[ 1.2504e-02,  1.7202e-02, -5.3985e-03,  ..., -2.2400e-02,\n",
      "         -1.5247e-02, -8.5363e-03],\n",
      "        [ 9.4506e-03,  1.2536e-03, -2.3405e-02,  ..., -1.5124e-02,\n",
      "          1.8115e-02,  5.4366e-03],\n",
      "        [-2.5312e-02, -2.1539e-03, -5.9060e-03,  ...,  2.0284e-02,\n",
      "         -7.6562e-03,  3.1740e-03],\n",
      "        ...,\n",
      "        [-1.5648e-02,  2.0343e-02,  6.9980e-03,  ..., -7.8554e-03,\n",
      "          2.9076e-06,  1.8986e-02],\n",
      "        [ 1.1576e-02, -2.4743e-02,  7.3504e-03,  ...,  1.1426e-02,\n",
      "         -7.1584e-03,  2.5505e-02],\n",
      "        [-1.0172e-02,  9.9001e-03, -4.4207e-03,  ..., -7.4673e-03,\n",
      "         -5.5638e-03, -2.3987e-02]], requires_grad=True)\n",
      "Parameter containing:\n",
      "tensor([-0.0182, -0.0084,  0.0114, -0.0026, -0.0257, -0.0028,  0.0123,  0.0030,\n",
      "        -0.0002,  0.0195], requires_grad=True)\n"
     ]
    }
   ],
   "source": [
    "for parameters in net.parameters():\n",
    "    print(parameters)"
   ]
  },
  {
   "cell_type": "code",
   "execution_count": 6,
   "metadata": {},
   "outputs": [
    {
     "name": "stdout",
     "output_type": "stream",
     "text": [
      "conv1.weight : torch.Size([6, 1, 3, 3])\n",
      "conv1.bias : torch.Size([6])\n",
      "fc1.weight : torch.Size([10, 1350])\n",
      "fc1.bias : torch.Size([10])\n"
     ]
    }
   ],
   "source": [
    "for name,parameters in net.named_parameters():\n",
    "    print(name,':',parameters.size())"
   ]
  },
  {
   "cell_type": "code",
   "execution_count": 7,
   "metadata": {},
   "outputs": [
    {
     "name": "stdout",
     "output_type": "stream",
     "text": [
      "torch.Size([1, 1, 32, 32])\n",
      "torch.Size([1, 6, 30, 30])\n",
      "torch.Size([1, 6, 15, 15])\n",
      "torch.Size([1, 1350])\n"
     ]
    },
    {
     "data": {
      "text/plain": [
       "torch.Size([1, 10])"
      ]
     },
     "execution_count": 7,
     "metadata": {},
     "output_type": "execute_result"
    }
   ],
   "source": [
    "input = torch.randn(1,1,32,32)\n",
    "out = net(input)\n",
    "out.size()"
   ]
  },
  {
   "cell_type": "code",
   "execution_count": 8,
   "metadata": {},
   "outputs": [
    {
     "data": {
      "text/plain": [
       "torch.Size([1, 1, 32, 32])"
      ]
     },
     "execution_count": 8,
     "metadata": {},
     "output_type": "execute_result"
    }
   ],
   "source": [
    "input.size()"
   ]
  },
  {
   "cell_type": "code",
   "execution_count": 9,
   "metadata": {},
   "outputs": [],
   "source": [
    "# 在反向传播前，先要将所有参数的梯度清零\n",
    "net.zero_grad()\n",
    "out.backward(torch.ones(1,10))"
   ]
  },
  {
   "cell_type": "code",
   "execution_count": 10,
   "metadata": {},
   "outputs": [
    {
     "name": "stdout",
     "output_type": "stream",
     "text": [
      "28.951562881469727\n"
     ]
    }
   ],
   "source": [
    "y = torch.arange(0,10).view(1,10).float()\n",
    "criterion = nn.MSELoss()\n",
    "loss = criterion(out,y)\n",
    "print(loss.item())"
   ]
  },
  {
   "cell_type": "code",
   "execution_count": 11,
   "metadata": {},
   "outputs": [],
   "source": [
    "import torch.optim"
   ]
  },
  {
   "cell_type": "code",
   "execution_count": 12,
   "metadata": {},
   "outputs": [
    {
     "name": "stdout",
     "output_type": "stream",
     "text": [
      "torch.Size([1, 1, 32, 32])\n",
      "torch.Size([1, 6, 30, 30])\n",
      "torch.Size([1, 6, 15, 15])\n",
      "torch.Size([1, 1350])\n"
     ]
    }
   ],
   "source": [
    "out = net(input)\n",
    "criterion = nn.MSELoss()\n",
    "loss = criterion(out,y)\n",
    "optimizer = torch.optim.SGD(net.parameters(),lr = 0.01)\n",
    "optimizer.zero_grad()\n",
    "loss.backward()\n",
    "optimizer.step()"
   ]
  },
  {
   "cell_type": "code",
   "execution_count": null,
   "metadata": {},
   "outputs": [],
   "source": []
  }
 ],
 "metadata": {
  "kernelspec": {
   "display_name": "Pytorch for Deeplearning",
   "language": "python",
   "name": "pytorch"
  },
  "language_info": {
   "codemirror_mode": {
    "name": "ipython",
    "version": 3
   },
   "file_extension": ".py",
   "mimetype": "text/x-python",
   "name": "python",
   "nbconvert_exporter": "python",
   "pygments_lexer": "ipython3",
   "version": "3.7.6"
  }
 },
 "nbformat": 4,
 "nbformat_minor": 4
}
