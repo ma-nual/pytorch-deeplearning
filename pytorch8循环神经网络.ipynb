{
 "cells": [
  {
   "cell_type": "code",
   "execution_count": 1,
   "metadata": {},
   "outputs": [
    {
     "data": {
      "text/plain": [
       "'1.5.0'"
      ]
     },
     "execution_count": 1,
     "metadata": {},
     "output_type": "execute_result"
    }
   ],
   "source": [
    "import torch\n",
    "torch.__version__"
   ]
  },
  {
   "cell_type": "code",
   "execution_count": 2,
   "metadata": {},
   "outputs": [
    {
     "name": "stdout",
     "output_type": "stream",
     "text": [
      "torch.Size([100, 32, 50]) torch.Size([2, 32, 50])\n"
     ]
    }
   ],
   "source": [
    "rnn = torch.nn.RNN(20,50,2)\n",
    "input = torch.randn(100,32,20)\n",
    "h_0 = torch.randn(2,32,50)\n",
    "output,hn = rnn(input,h_0)\n",
    "print(output.size(),hn.size())"
   ]
  },
  {
   "cell_type": "code",
   "execution_count": 3,
   "metadata": {},
   "outputs": [],
   "source": [
    "class RNN(object):\n",
    "    def __init__(self,input_size,hidden_size):\n",
    "        super().__init__()\n",
    "        self.W_xh = torch.nn.Linear(input_size,hidden_size)\n",
    "        self.W_hh = torch.nn.Linear(hidden_size,hidden_size)\n",
    "        \n",
    "    def __call__(self,x,hidden):\n",
    "        return self.step(x,hidden)\n",
    "    def step(self,x,hidden):\n",
    "        hl = self.W_hh(hidden)\n",
    "        wl = self.W_xh(x)\n",
    "        out = torch.tanh(hl + wl)\n",
    "        hidden = self.W_hh.weight\n",
    "        return out,hidden"
   ]
  },
  {
   "cell_type": "code",
   "execution_count": 4,
   "metadata": {},
   "outputs": [],
   "source": [
    "rnn = RNN(20,50)\n",
    "input = torch.randn(32,20)\n",
    "h_0 = torch.randn(32,50)\n",
    "seq_len = input.shape[0]"
   ]
  },
  {
   "cell_type": "code",
   "execution_count": 5,
   "metadata": {},
   "outputs": [
    {
     "name": "stdout",
     "output_type": "stream",
     "text": [
      "torch.Size([32, 50]) torch.Size([32, 50])\n"
     ]
    }
   ],
   "source": [
    "for i in range(seq_len):\n",
    "    output,hn = rnn(input[i,:],h_0)\n",
    "print(output.size(),h_0.size())"
   ]
  },
  {
   "cell_type": "code",
   "execution_count": 6,
   "metadata": {},
   "outputs": [
    {
     "name": "stdout",
     "output_type": "stream",
     "text": [
      "torch.Size([5, 3, 20]) torch.Size([2, 3, 20]) torch.Size([2, 3, 20])\n"
     ]
    }
   ],
   "source": [
    "lstm = torch.nn.LSTM(10,20,2)\n",
    "input = torch.randn(5,3,10)\n",
    "h0 = torch.randn(2,3,20)\n",
    "c0 = torch.randn(2,3,20)\n",
    "output,hn = lstm(input,(h0,c0))\n",
    "print(output.size(),hn[0].size(),hn[1].size())"
   ]
  },
  {
   "cell_type": "code",
   "execution_count": 7,
   "metadata": {},
   "outputs": [
    {
     "name": "stdout",
     "output_type": "stream",
     "text": [
      "torch.Size([5, 3, 20]) torch.Size([2, 3, 20])\n"
     ]
    }
   ],
   "source": [
    "rnn = torch.nn.GRU(10,20,2)\n",
    "input = torch.randn(5,3,10)\n",
    "h_0 = torch.randn(2,3,20)\n",
    "output,hn = rnn(input,h0)\n",
    "print(output.size(),hn.size())"
   ]
  },
  {
   "cell_type": "code",
   "execution_count": 8,
   "metadata": {},
   "outputs": [
    {
     "name": "stdout",
     "output_type": "stream",
     "text": [
      "torch.Size([2, 4, 3])\n"
     ]
    }
   ],
   "source": [
    "embedding = torch.nn.Embedding(10,3)\n",
    "input = torch.LongTensor([[1,2,4,5],[4,3,2,9]])\n",
    "output = embedding(input)\n",
    "print(output.size())"
   ]
  },
  {
   "cell_type": "code",
   "execution_count": null,
   "metadata": {},
   "outputs": [],
   "source": []
  }
 ],
 "metadata": {
  "kernelspec": {
   "display_name": "Pytorch for Deeplearning",
   "language": "python",
   "name": "pytorch"
  },
  "language_info": {
   "codemirror_mode": {
    "name": "ipython",
    "version": 3
   },
   "file_extension": ".py",
   "mimetype": "text/x-python",
   "name": "python",
   "nbconvert_exporter": "python",
   "pygments_lexer": "ipython3",
   "version": "3.7.6"
  }
 },
 "nbformat": 4,
 "nbformat_minor": 4
}
